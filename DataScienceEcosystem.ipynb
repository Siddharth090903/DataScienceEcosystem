{
 "cells": [
  {
   "cell_type": "markdown",
   "id": "558c60de-adbe-42d2-a3fd-fc98bbf55c45",
   "metadata": {
    "panel-layout": {
     "height": 10,
     "visible": true,
     "width": 100
    }
   },
   "source": [
    "# 🌍 Exploring the World of Data Science\n"
   ]
  },
  {
   "cell_type": "markdown",
   "id": "2f7dfdab-357f-462f-9521-6b3c5ec8a74d",
   "metadata": {},
   "source": [
    "Hey! \n",
    "If you’ve ever wondered what makes Data Science *the thing* — you’re in the right place.  \n",
    "We’re talkin’ languages, libraries, tools, and yeah... a little number magic 🧙‍♂️.  \n",
    "Buckle up, it’s gonna be a chill but brainy ride. "
   ]
  },
  {
   "cell_type": "markdown",
   "id": "9bc81253-d764-44a2-8a12-f338ab0c297d",
   "metadata": {},
   "source": [
    "## 🧠 Programming Languages Commonly Used in Data Science\n",
    "\n",
    "Here are a few powerful programming languages commonly used in the Data Science ecosystem:\n",
    "- **Python** – versatile and beginner-friendly  \n",
    "- **R** – especially good for statistical analysis  \n",
    "- **SQL** – for handling structured data  \n",
    "- **Julia** – high-performance computing  \n",
    "- **Java** – sometimes used in big data environments"
   ]
  },
  {
   "cell_type": "markdown",
   "id": "2560e30a-e8a8-49df-931e-056f46ade570",
   "metadata": {},
   "source": [
    "## 🧰 Popular Libraries in Data Science\n",
    "\n",
    "These libraries make life easier for data scientists, helping with everything from data cleaning to machine learning:\n",
    "- **NumPy** – fast numerical operations  \n",
    "- **Pandas** – data manipulation and analysis  \n",
    "- **Matplotlib** – data visualization  \n",
    "- **Scikit-learn** – machine learning algorithms  \n",
    "- **TensorFlow** – deep learning and neural networks"
   ]
  },
  {
   "cell_type": "markdown",
   "id": "781f913c-5a7e-4912-a1e7-b85447bf2882",
   "metadata": {},
   "source": [
    "## 🧰 Common Data Science Tools\n",
    "\n",
    "| Tool             | Use Case                        |\n",
    "|------------------|----------------------------------|\n",
    "| Jupyter Notebook | Interactive code + documentation |\n",
    "| RStudio          | IDE for R                        |\n",
    "| Apache Spark     | Processing large-scale data      |\n",
    "| TensorFlow       | Deep learning and AI projects    |"
   ]
  },
  {
   "cell_type": "markdown",
   "id": "524ffe6c-9350-4673-9b42-f7c1744cb703",
   "metadata": {},
   "source": [
    "## Let’s keep it simple — here are some quick math operations to show how code can handle basic arithmetic instantly."
   ]
  },
  {
   "cell_type": "code",
   "execution_count": 13,
   "id": "98fc1dbb-5568-4926-937f-084c7a4539d0",
   "metadata": {},
   "outputs": [
    {
     "data": {
      "text/plain": [
       "52"
      ]
     },
     "execution_count": 13,
     "metadata": {},
     "output_type": "execute_result"
    }
   ],
   "source": [
    "# Example: Multiply and add\n",
    "(8 * 6) + 4  # Result: 52\n"
   ]
  },
  {
   "cell_type": "code",
   "execution_count": 15,
   "id": "5b9bd23c-4997-4f2f-a63d-72df12152194",
   "metadata": {},
   "outputs": [
    {
     "data": {
      "text/plain": [
       "4.0"
      ]
     },
     "execution_count": 15,
     "metadata": {},
     "output_type": "execute_result"
    }
   ],
   "source": [
    "# Time conversion: minutes to hours\n",
    "minutes = 240\n",
    "hours = minutes / 60\n",
    "hours"
   ]
  },
  {
   "cell_type": "markdown",
   "id": "9710f8c1-5e4a-4075-808f-4b3d05a831d4",
   "metadata": {},
   "source": [
    "## ✅ What This Notebook Covers\n",
    "\n",
    "- List popular languages for Data Science\n",
    "- List commonly used libraries\n",
    "- Create tables using Markdown\n",
    "- Perform arithmetic operations in Python\n",
    "- Convert time units using Python code"
   ]
  },
  {
   "cell_type": "markdown",
   "id": "c59dce23-6a57-42e9-9bf4-7f3a946703eb",
   "metadata": {},
   "source": [
    "**Author:** Siddharth Saxena"
   ]
  }
 ],
 "metadata": {
  "kernelspec": {
   "display_name": "Python 3 (py3kernel)",
   "language": "python",
   "name": "py3kernel"
  },
  "language_info": {
   "codemirror_mode": {
    "name": "ipython",
    "version": 3
   },
   "file_extension": ".py",
   "mimetype": "text/x-python",
   "name": "python",
   "nbconvert_exporter": "python",
   "pygments_lexer": "ipython3",
   "version": "3.10.16"
  },
  "panel-cell-order": [
   "558c60de-adbe-42d2-a3fd-fc98bbf55c45"
  ]
 },
 "nbformat": 4,
 "nbformat_minor": 5
}
